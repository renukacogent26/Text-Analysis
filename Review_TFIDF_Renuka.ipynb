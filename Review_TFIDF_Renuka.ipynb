{
 "cells": [
  {
   "cell_type": "code",
   "execution_count": 1,
   "id": "40394288",
   "metadata": {},
   "outputs": [],
   "source": [
    "import pandas as pd\n",
    "import numpy as np"
   ]
  },
  {
   "cell_type": "code",
   "execution_count": 2,
   "id": "1a54392d",
   "metadata": {},
   "outputs": [
    {
     "data": {
      "text/plain": [
       "(349, 9)"
      ]
     },
     "execution_count": 2,
     "metadata": {},
     "output_type": "execute_result"
    }
   ],
   "source": [
    "df=pd.read_csv(\"reviews.csv\") #read dataset\n",
    "df.shape"
   ]
  },
  {
   "cell_type": "code",
   "execution_count": 3,
   "id": "f4dae898",
   "metadata": {},
   "outputs": [
    {
     "data": {
      "text/plain": [
       "ID                 0\n",
       "V1                 0\n",
       "V2                 0\n",
       "V3                 0\n",
       "Date               0\n",
       "V4                 0\n",
       "review_title       0\n",
       "review_detail      0\n",
       "Unnamed: 8       348\n",
       "dtype: int64"
      ]
     },
     "execution_count": 3,
     "metadata": {},
     "output_type": "execute_result"
    }
   ],
   "source": [
    "df.isnull().sum()"
   ]
  },
  {
   "cell_type": "code",
   "execution_count": 4,
   "id": "395cecd1",
   "metadata": {},
   "outputs": [
    {
     "data": {
      "text/plain": [
       "(349, 8)"
      ]
     },
     "execution_count": 4,
     "metadata": {},
     "output_type": "execute_result"
    }
   ],
   "source": [
    "df=df.drop(columns=\"Unnamed: 8\", axis=0) #dropped the last column which is not the part of dataset\n",
    "df.shape"
   ]
  },
  {
   "cell_type": "code",
   "execution_count": 5,
   "id": "fccc2209",
   "metadata": {},
   "outputs": [
    {
     "data": {
      "text/html": [
       "<div>\n",
       "<style scoped>\n",
       "    .dataframe tbody tr th:only-of-type {\n",
       "        vertical-align: middle;\n",
       "    }\n",
       "\n",
       "    .dataframe tbody tr th {\n",
       "        vertical-align: top;\n",
       "    }\n",
       "\n",
       "    .dataframe thead th {\n",
       "        text-align: right;\n",
       "    }\n",
       "</style>\n",
       "<table border=\"1\" class=\"dataframe\">\n",
       "  <thead>\n",
       "    <tr style=\"text-align: right;\">\n",
       "      <th></th>\n",
       "      <th>ID</th>\n",
       "      <th>V1</th>\n",
       "      <th>V2</th>\n",
       "      <th>V3</th>\n",
       "      <th>Date</th>\n",
       "      <th>V4</th>\n",
       "      <th>review_title</th>\n",
       "      <th>review_detail</th>\n",
       "    </tr>\n",
       "  </thead>\n",
       "  <tbody>\n",
       "    <tr>\n",
       "      <th>0</th>\n",
       "      <td>B00FB2XNCE</td>\n",
       "      <td>3</td>\n",
       "      <td>67</td>\n",
       "      <td>81</td>\n",
       "      <td>October 3, 2013</td>\n",
       "      <td>AA7CHSYLJOSY4</td>\n",
       "      <td>Blu Tooth Issues resolved - Updated</td>\n",
       "      <td>Bought this device as second Android screen fo...</td>\n",
       "    </tr>\n",
       "    <tr>\n",
       "      <th>1</th>\n",
       "      <td>B00FB2XNCE</td>\n",
       "      <td>1</td>\n",
       "      <td>1</td>\n",
       "      <td>5</td>\n",
       "      <td>August 8, 2014</td>\n",
       "      <td>A1WWGDOFTCW8Q</td>\n",
       "      <td>One Star</td>\n",
       "      <td>Bad qulity its not water proof , now my watch ...</td>\n",
       "    </tr>\n",
       "    <tr>\n",
       "      <th>2</th>\n",
       "      <td>B00FB2XNCE</td>\n",
       "      <td>5</td>\n",
       "      <td>1</td>\n",
       "      <td>1</td>\n",
       "      <td>August 7, 2014</td>\n",
       "      <td>A2TYLWQL2P5ND6</td>\n",
       "      <td>Excelente producto... recomendado 100%</td>\n",
       "      <td>Excelente producto... recomendado 100%</td>\n",
       "    </tr>\n",
       "  </tbody>\n",
       "</table>\n",
       "</div>"
      ],
      "text/plain": [
       "           ID  V1  V2  V3             Date              V4  \\\n",
       "0  B00FB2XNCE   3  67  81  October 3, 2013   AA7CHSYLJOSY4   \n",
       "1  B00FB2XNCE   1   1   5   August 8, 2014   A1WWGDOFTCW8Q   \n",
       "2  B00FB2XNCE   5   1   1   August 7, 2014  A2TYLWQL2P5ND6   \n",
       "\n",
       "                             review_title  \\\n",
       "0     Blu Tooth Issues resolved - Updated   \n",
       "1                                One Star   \n",
       "2  Excelente producto... recomendado 100%   \n",
       "\n",
       "                                       review_detail  \n",
       "0  Bought this device as second Android screen fo...  \n",
       "1  Bad qulity its not water proof , now my watch ...  \n",
       "2             Excelente producto... recomendado 100%  "
      ]
     },
     "execution_count": 5,
     "metadata": {},
     "output_type": "execute_result"
    }
   ],
   "source": [
    "df.head(3)"
   ]
  },
  {
   "cell_type": "code",
   "execution_count": 6,
   "id": "83cbcccf",
   "metadata": {},
   "outputs": [
    {
     "data": {
      "text/plain": [
       "5    160\n",
       "4     68\n",
       "3     51\n",
       "1     42\n",
       "2     28\n",
       "Name: V1, dtype: int64"
      ]
     },
     "execution_count": 6,
     "metadata": {},
     "output_type": "execute_result"
    }
   ],
   "source": [
    "df['V1'].value_counts()"
   ]
  },
  {
   "cell_type": "code",
   "execution_count": 7,
   "id": "137d833e",
   "metadata": {},
   "outputs": [],
   "source": [
    "df=df[df['V1']!=3] # dropping the rows with review 3.Since we are interested in low and high ratings and not the moderate"
   ]
  },
  {
   "cell_type": "code",
   "execution_count": 8,
   "id": "4599a579",
   "metadata": {},
   "outputs": [
    {
     "data": {
      "text/plain": [
       "(298, 8)"
      ]
     },
     "execution_count": 8,
     "metadata": {},
     "output_type": "execute_result"
    }
   ],
   "source": [
    "df.shape"
   ]
  },
  {
   "cell_type": "code",
   "execution_count": 9,
   "id": "a18c2cfc",
   "metadata": {},
   "outputs": [
    {
     "data": {
      "text/plain": [
       "5    160\n",
       "4     68\n",
       "1     42\n",
       "2     28\n",
       "Name: V1, dtype: int64"
      ]
     },
     "execution_count": 9,
     "metadata": {},
     "output_type": "execute_result"
    }
   ],
   "source": [
    "df['V1'].value_counts()"
   ]
  },
  {
   "cell_type": "code",
   "execution_count": 10,
   "id": "82078d4b",
   "metadata": {},
   "outputs": [
    {
     "data": {
      "text/plain": [
       "1      0\n",
       "2      1\n",
       "3      1\n",
       "4      1\n",
       "5      1\n",
       "      ..\n",
       "342    0\n",
       "343    1\n",
       "344    0\n",
       "347    1\n",
       "348    1\n",
       "Name: Positive rating, Length: 298, dtype: int32"
      ]
     },
     "execution_count": 10,
     "metadata": {},
     "output_type": "execute_result"
    }
   ],
   "source": [
    "df[\"Positive rating\"]=np.where(df['V1']>3, 1, 0)\n",
    "df[\"Positive rating\"]"
   ]
  },
  {
   "cell_type": "code",
   "execution_count": 11,
   "id": "a68675d9",
   "metadata": {},
   "outputs": [
    {
     "data": {
      "text/plain": [
       "1    228\n",
       "0     70\n",
       "Name: Positive rating, dtype: int64"
      ]
     },
     "execution_count": 11,
     "metadata": {},
     "output_type": "execute_result"
    }
   ],
   "source": [
    "df[\"Positive rating\"].value_counts()"
   ]
  },
  {
   "cell_type": "code",
   "execution_count": 12,
   "id": "ba990fbc",
   "metadata": {},
   "outputs": [],
   "source": [
    "import seaborn as sns"
   ]
  },
  {
   "cell_type": "code",
   "execution_count": 13,
   "id": "d68b4a54",
   "metadata": {},
   "outputs": [
    {
     "name": "stderr",
     "output_type": "stream",
     "text": [
      "C:\\Users\\renuka\\anaconda3\\lib\\site-packages\\seaborn\\_decorators.py:36: FutureWarning: Pass the following variable as a keyword arg: x. From version 0.12, the only valid positional argument will be `data`, and passing other arguments without an explicit keyword will result in an error or misinterpretation.\n",
      "  warnings.warn(\n"
     ]
    },
    {
     "data": {
      "text/plain": [
       "<AxesSubplot:xlabel='Positive rating', ylabel='count'>"
      ]
     },
     "execution_count": 13,
     "metadata": {},
     "output_type": "execute_result"
    },
    {
     "data": {
      "image/png": "[encoded data removed]",
      "text/plain": [
       "<Figure size 432x288 with 1 Axes>"
      ]
     },
     "metadata": {
      "needs_background": "light"
     },
     "output_type": "display_data"
    }
   ],
   "source": [
    "sns.countplot(df[\"Positive rating\"])"
   ]
  },
  {
   "cell_type": "code",
   "execution_count": 14,
   "id": "4292d1c2",
   "metadata": {},
   "outputs": [],
   "source": [
    "import sklearn.feature_extraction.text as text"
   ]
  },
  {
   "cell_type": "code",
   "execution_count": 15,
   "id": "2844e492",
   "metadata": {},
   "outputs": [
    {
     "data": {
      "text/plain": [
       "['One Star',\n",
       " 'Excelente producto... recomendado 100%',\n",
       " 'I am extremely glad I purchased it',\n",
       " 'same as the old one, just bigger screen',\n",
       " 'Five Stars',\n",
       " 'One Star',\n",
       " \"The Bluetooth doesn't work instantly. Whenever I got notice ...\",\n",
       " 'Five Stars',\n",
       " 'Five Stars',\n",
       " 'Five Stars',\n",
       " 'Get the galaxy gear instead.',\n",
       " 'Awesome new toy.',\n",
       " 'Great for reading notifications and SMS messages!',\n",
       " 'Not what I expected, but everything it claims to be.',\n",
       " 'Good for the price',\n",
       " 'The Sony SW2 is far more than what I had originally expected',\n",
       " 'APRIL UPDATE allows you to change background wallpaper.',\n",
       " 'Watch out!',\n",
       " 'Not quite what it could be',\n",
       " 'Fail',\n",
       " 'It did but the screen resolution sucked, and connecting with your smartphone was clunky and ...',\n",
       " 'Four Stars',\n",
       " 'Not Galaxy Gear, but that was not what I was going for.',\n",
       " 'Five Stars',\n",
       " \"So cool! Got one for my husband for Father's Day ...\",\n",
       " 'Very handy.',\n",
       " 'Four Stars',\n",
       " 'Five Stars',\n",
       " 'Smart Looking Smart Watch',\n",
       " 'only worked for 11 days',\n",
       " 'Great Buy',\n",
       " 'Bricked By An Update',\n",
       " 'great',\n",
       " 'Buyer Beware.',\n",
       " 'BUYER BEWARE...Beware, Beware, Beware!!!  SONY WILL NOT STAND BY THEIR PRODUCT!!',\n",
       " 'Top Notch',\n",
       " 'Smart Watch that does everything I want a smart watch to do NOW for BARGAIN Price',\n",
       " 'Five Stars',\n",
       " 'just amazing',\n",
       " 'Five Stars',\n",
       " 'Great Smart Watch.',\n",
       " 'Lovet good price',\n",
       " 'One Star',\n",
       " 'two thumbs up!!',\n",
       " 'Good present',\n",
       " 'excellent choice',\n",
       " 'Cool watch',\n",
       " 'Great idea',\n",
       " 'Smart-watch 2 review',\n",
       " 'It does what it promises',\n",
       " 'Very good Watch',\n",
       " 'the best must get. if you got another put it to the side lol',\n",
       " 'it suck',\n",
       " 'wow',\n",
       " 'A smart decision.',\n",
       " 'awsome!',\n",
       " 'pretty handy. Now i dont have to check my ...',\n",
       " 'Four Stars',\n",
       " 'Five Stars',\n",
       " 'what i think',\n",
       " 'Not very robust.',\n",
       " 'Five Stars',\n",
       " 'See reviews before purchase',\n",
       " 'I would recommend this product to everyone',\n",
       " 'Five Stars',\n",
       " 'Thoroughly impressed!',\n",
       " 'Much Better Than First Version',\n",
       " 'Battery life issues',\n",
       " 'all its advertised to be',\n",
       " 'Positive step in the right direction!!!',\n",
       " 'Is it ready?',\n",
       " 'Stay away - Defective engineering',\n",
       " 'Using Sony Smartwatch SW2 with Samsung Galaxy II',\n",
       " 'Mrs',\n",
       " 'Great smartwatch to hold me over for the next generation.',\n",
       " 'LG G2 Owner Amazed!',\n",
       " 'Awesome',\n",
       " 'Watch',\n",
       " 'I wear it ever day - Would like more NATIVE watch-face choices',\n",
       " 'Looks great and has all the apps you need',\n",
       " 'love the watch',\n",
       " 'Best Smart Watch Thus Far',\n",
       " 'Great concept , a piece of crap \",Feature are OK very basic but useful',\n",
       " 'Thought I needed more, turns out basic will do',\n",
       " 'Love it! Very convenient. Easy to set up and read.',\n",
       " 'Too Many Bugs',\n",
       " 'piece of crap',\n",
       " 'Love, love, love.',\n",
       " 'Functional yet over priced',\n",
       " 'Excellente purchase!!',\n",
       " 'Disappointment on my wrist.',\n",
       " 'Great (the display turns off too fast)',\n",
       " 'my son loves it !!',\n",
       " 'customer support plus',\n",
       " 'love my smartwatch',\n",
       " 'Very happy with this, and Sony keeps improving it',\n",
       " 'Great watch',\n",
       " 'good looking watch',\n",
       " 'Ignore the h8trs...',\n",
       " 'Do not buy the sony smartwatch I purchased one my ...',\n",
       " 'Good watch',\n",
       " \"THE worst watch I've ever owned in my life\",\n",
       " 'Five Stars',\n",
       " 'just got the Z2 and this just makes the whole smart phone experience even better',\n",
       " 'Five Stars',\n",
       " 'Five Stars',\n",
       " 'come out and hurt',\n",
       " 'Improvement',\n",
       " 'Good addition for Note 3',\n",
       " 'Best watch ever. better then my gear neo!',\n",
       " 'Heck of alot of bank for my money',\n",
       " 'smart',\n",
       " 'Love it',\n",
       " '1 of Sony Smart Watch SW2 for Android Phones',\n",
       " 'Smartwatch 2',\n",
       " \"Okay, I like this and think it's a decent contender.\",\n",
       " 'Notification vibrate mode loud',\n",
       " 'Great Smartphone Acc',\n",
       " 'Nice Accesory',\n",
       " 'its great',\n",
       " 'I like this product',\n",
       " 'Everything is advertised, apps need to catch up',\n",
       " 'No word can describe',\n",
       " 'I tried the Galaxy Gear and liked the SmartWatch 2 better. A much better value.',\n",
       " \"I'm soooo happy I bought this.\",\n",
       " 'Very nice as a watch and has useful features good second gen',\n",
       " 'Great Watch.',\n",
       " 'smartwatch',\n",
       " 'sony watch 2',\n",
       " 'LEMON',\n",
       " 'GREAT PURCHASE. I LOVE THIS WATCH',\n",
       " 'Satisfied',\n",
       " 'Excellent product.',\n",
       " 'Great',\n",
       " 'Hubby loves this watch!',\n",
       " 'Not quite ready for prime time',\n",
       " 'compatibility issues',\n",
       " 'Love it',\n",
       " 'A must buy item!',\n",
       " 'Great Deal',\n",
       " 'Disconnects Constantly',\n",
       " 'awesome',\n",
       " 'Sad',\n",
       " 'Awesome smart watch.',\n",
       " 'great buy',\n",
       " 'Awesome',\n",
       " 'Buy at own risk',\n",
       " 'Sony Smart Watch SW2',\n",
       " 'Exactly what I needed!',\n",
       " 'sorry not like it',\n",
       " 'Four Stars',\n",
       " 'Four Stars',\n",
       " 'Not pairing with my phone',\n",
       " 'Nice product. I wanted to try a smartwatch and ...',\n",
       " 'Five Stars',\n",
       " 'This is a most excellent watch. Not crazy about the absolute square configuration ...',\n",
       " 'Five Stars',\n",
       " 'Second screen for my phone keeps me from fumbling at the pool',\n",
       " 'Works as it should',\n",
       " 'Pleasantly surprised',\n",
       " 'Great Purchase!',\n",
       " 'As Useful as I Hoped - Better than Galaxy Gear',\n",
       " 'Sony Smartwatch Part 2 (3rd edition)',\n",
       " 'Correction: Works with original Galaxy Note after software update',\n",
       " 'Better then I expected',\n",
       " 'Excellent watch!!',\n",
       " 'Love it',\n",
       " 'Five Stars',\n",
       " 'Big disappointment in Sony',\n",
       " 'One Star',\n",
       " 'Works great, nice fit',\n",
       " 'Cool Enough',\n",
       " 'Five Stars',\n",
       " 'Five Stars',\n",
       " 'Attention to Quality  Assurance Lacking',\n",
       " 'not what I expected.',\n",
       " 'Five Stars',\n",
       " '... I read quite a few disturbing reviews regarding this smart watch. It does what I need',\n",
       " 'This product i spectacular, i had the SW1, ...',\n",
       " 'Four Stars',\n",
       " 'Loving my smartwatch so far...',\n",
       " 'its a blessing is better than the samsung gear ive had droped it hit ...',\n",
       " 'GREAT PRODUCT',\n",
       " \"Don't shop too far, what ur looking for is right here!!!\",\n",
       " 'Great watch!',\n",
       " 'A great watch, not too good of a smartwatch',\n",
       " 'Five Stars',\n",
       " 'Five Stars',\n",
       " 'One Star',\n",
       " 'good buy',\n",
       " \"I've liked it so far....its pretty cool\",\n",
       " 'Awesome',\n",
       " 'Great Smartwatch 2 , by Sony',\n",
       " 'Good watch, good compatibility, poor support and implementation',\n",
       " 'Great new wave gadget!',\n",
       " 'Battery only lasted for 8 hours.',\n",
       " 'A great notification triage device',\n",
       " 'Great Accessory',\n",
       " 'bluetooth to blackberry',\n",
       " 'not worth 200$',\n",
       " 'He really liked it. He had to download a few apps ...',\n",
       " 'Four Stars',\n",
       " 'Great Great',\n",
       " 'Five Stars',\n",
       " 'Two Stars',\n",
       " 'Five Stars',\n",
       " 'Much better than the first version',\n",
       " 'Four Stars',\n",
       " 'An everyday business accessory.',\n",
       " \"It's a great watch and neat toy if you're an Android fan.\",\n",
       " 'Great Geek Gadget!',\n",
       " 'Not ready yet...',\n",
       " 'Sony products disappoint me again..',\n",
       " 'It does what it should consistently.',\n",
       " 'Not a bad device, just know its limitations',\n",
       " 'Great Watch',\n",
       " 'Sony Missed Something.....',\n",
       " 'Good notifier of ur mobile',\n",
       " 'Sony SW 2 is neat.',\n",
       " 'Great Watch',\n",
       " 'Not compatible with all Android devices, even with Android 4.0 or later',\n",
       " 'Works like a digital lanyard ---',\n",
       " 'Good watch',\n",
       " 'Nice concept, but horrible manufacturing quality!  Avoid!',\n",
       " 'Five Stars',\n",
       " 'Just had an overall bad experience with this watch',\n",
       " 'Five Stars',\n",
       " 'Five Stars',\n",
       " 'Five Stars',\n",
       " 'One Star',\n",
       " 'I am so happy with this watch',\n",
       " 'Five Stars',\n",
       " 'Awesome',\n",
       " 'Best smartwatch option for real life (right now)',\n",
       " 'Gift',\n",
       " 'LOVE IT',\n",
       " 'Not a happy customer',\n",
       " 'Step Towards the Future of Wristwear',\n",
       " 'Great Watch',\n",
       " 'Excellent',\n",
       " \"It's a very good product\",\n",
       " 'watch is okay but has issues with my note 3.',\n",
       " 'Great phone accessory NOT a wrist phone',\n",
       " 'Great watch',\n",
       " 'One Big Problem',\n",
       " 'SW2: Hits the Mark',\n",
       " 'bad hi tech',\n",
       " 'Not ready for prime time just yet',\n",
       " 'After one week...',\n",
       " 'Update:  Battery is horrible!',\n",
       " 'COULD NOT INITIALIZE',\n",
       " 'Nice',\n",
       " 'worth the money',\n",
       " 'great',\n",
       " 'God notification device',\n",
       " 'Great smart watch.',\n",
       " 'Good product and quick service',\n",
       " 'Sony watch not quite ready',\n",
       " 'Would be perfect with a few minor additions!',\n",
       " 'Perfect Companion to a Smartphone or tablet.',\n",
       " 'Great smartwatch, some minor software glitches',\n",
       " 'Way better than the Samsung Gear',\n",
       " 'THE Smartwatch!!',\n",
       " 'Fun gadget that will impress your friends',\n",
       " \"Does what's expected but something is definitely missing.\",\n",
       " 'Returned it after 2hrs use.',\n",
       " 'Perfect',\n",
       " 'Husband LOVES it!',\n",
       " 'Using with the Note3.',\n",
       " 'Strap broke after one wear',\n",
       " \"Better hope it doesn't die.  No support\",\n",
       " 'do not buy!',\n",
       " 'If you are looking at it, get it.',\n",
       " 'Great! But...',\n",
       " 'does not sync',\n",
       " \"It's alright\",\n",
       " 'Amazingly pathetic implementation by Sony',\n",
       " 'email failure....',\n",
       " 'Watch',\n",
       " 'DO IT!!',\n",
       " 'Love it!',\n",
       " 'Third try is the charm!!',\n",
       " 'Nice Smart Watch for the Money!',\n",
       " 'Nice gadget works well with Sony Xperia Z1',\n",
       " 'Good for the $ but needs more clock faces',\n",
       " 'Very happy',\n",
       " 'so cool!',\n",
       " 'almost perfect',\n",
       " 'Good notification device',\n",
       " \"Looks great but doesn't work\",\n",
       " 'This is the best smart watch for companion of my cellphone',\n",
       " 'Best Smartwatch For The Money',\n",
       " 'GOOD SMART WATCH BUT',\n",
       " 'Watch linked one time .',\n",
       " 'Great Watch!',\n",
       " 'Not nearly as good as portrayed in reviews',\n",
       " 'perfect',\n",
       " 'Great watch, with some downsides']"
      ]
     },
     "execution_count": 15,
     "metadata": {},
     "output_type": "execute_result"
    }
   ],
   "source": [
    "review=list(df['review_title'])\n",
    "review"
   ]
  },
  {
   "cell_type": "code",
   "execution_count": 16,
   "id": "2c7f0f9d",
   "metadata": {},
   "outputs": [],
   "source": [
    "stopwords = ['i', 'me', 'my', 'myself', 'we', 'our', 'ours', 'ourselves', 'you', \"you're\", \"you've\", \n",
    "             \"you'll\", \"you'd\", 'your', 'yours', 'yourself', 'yourselves', 'he', 'him', 'his', 'himself', \n",
    "             'she', \"she's\", 'her', 'hers', 'herself', 'it', \"it's\", 'its', 'itself', 'they', 'them', \n",
    "             'their', 'theirs', 'themselves', 'what', 'which', 'who', 'whom', 'this', 'that', \"that'll\", \n",
    "             'these', 'those', 'am', 'is', 'are', 'was', 'were', 'be', 'been', 'being', 'have', 'has', \n",
    "             'had', 'having', 'do', 'does', 'did', 'doing', 'a', 'an', 'the', 'and', 'but', 'if', 'or', \n",
    "             'because', 'as', 'until', 'while', 'of', 'at', 'by', 'for', 'with', 'about', 'against', 'between', \n",
    "             'into', 'through', 'during', 'before', 'after', 'above', 'below', 'to', 'from', 'up', 'down', 'in', \n",
    "             'out', 'on', 'off', 'over', 'under', 'again', 'further', 'then', 'once', 'here', 'there', 'when', 'where', \n",
    "             'why', 'how', 'all', 'any', 'both', 'each', 'few', 'more', 'most', 'other', 'some', 'such', 'no', \n",
    "             'nor', 'not', 'only', 'own', 'same', 'so', 'than', 'too', 'very', 's', 't', 'can', 'will', 'just', \n",
    "             'don', \"don't\", 'should', \"should've\", 'now', 'd', 'll', 'm', 'o', 're', 've', 'y', 'ain', 'aren', \n",
    "             \"aren't\", 'couldn', \"couldn't\", 'didn', \"didn't\", 'doesn', \"doesn't\", 'hadn', \"hadn't\", 'hasn', \n",
    "             \"hasn't\", 'haven', \"haven't\", 'isn', \"isn't\", 'ma', 'mightn', \"mightn't\", 'mustn', \"mustn't\", \n",
    "             'needn', \"needn't\", 'shan', \"shan't\", 'shouldn', \"shouldn't\", 'wasn', \"wasn't\", 'weren', \"weren't\", \n",
    "             'won', \"won't\", 'wouldn', \"wouldn't\", \"makes\", \"ii\", \"ive\"]"
   ]
  },
  {
   "cell_type": "code",
   "execution_count": 17,
   "id": "44506fbc",
   "metadata": {},
   "outputs": [],
   "source": [
    "vectorizer = text.TfidfVectorizer(stop_words=stopwords,max_features = 20000)"
   ]
  },
  {
   "cell_type": "code",
   "execution_count": 18,
   "id": "2a2e7245",
   "metadata": {},
   "outputs": [
    {
     "data": {
      "text/plain": [
       "array(['100', '11', '200', '2hrs', '3rd', 'absolute', 'acc', 'accesory',\n",
       "       'accessory', 'addition', 'additions', 'advertised', 'allows',\n",
       "       'almost', 'alot', 'alright', 'amazed', 'amazing', 'amazingly',\n",
       "       'android', 'another', 'apps', 'april', 'assurance', 'attention',\n",
       "       'avoid', 'away', 'awesome', 'awsome', 'background', 'bad', 'bank',\n",
       "       'bargain', 'basic', 'battery', 'best', 'better', 'beware', 'big',\n",
       "       'bigger', 'blackberry', 'blessing', 'bluetooth', 'bought',\n",
       "       'bricked', 'broke', 'bugs', 'business', 'buy', 'buyer', 'catch',\n",
       "       'cellphone', 'change', 'charm', 'check', 'choice', 'choices',\n",
       "       'claims', 'clock', 'clunky', 'come', 'companion', 'compatibility',\n",
       "       'compatible', 'concept', 'configuration', 'connecting',\n",
       "       'consistently', 'constantly', 'contender', 'convenient', 'cool',\n",
       "       'correction', 'could', 'crap', 'crazy', 'customer', 'day', 'days',\n",
       "       'deal', 'decent', 'decision', 'defective', 'definitely',\n",
       "       'describe', 'device', 'devices', 'die', 'digital', 'direction',\n",
       "       'disappoint', 'disappointment', 'disconnects', 'display',\n",
       "       'disturbing', 'dont', 'download', 'downsides', 'droped', 'easy',\n",
       "       'edition', 'email', 'engineering', 'enough', 'even', 'ever',\n",
       "       'everyday', 'everyone', 'everything', 'exactly', 'excelente',\n",
       "       'excellent', 'excellente', 'expected', 'experience', 'extremely',\n",
       "       'face', 'faces', 'fail', 'failure', 'fan', 'far', 'fast', 'father',\n",
       "       'feature', 'features', 'first', 'fit', 'five', 'four', 'friends',\n",
       "       'fumbling', 'fun', 'functional', 'future', 'g2', 'gadget',\n",
       "       'galaxy', 'gear', 'geek', 'gen', 'generation', 'get', 'gift',\n",
       "       'glad', 'glitches', 'god', 'going', 'good', 'got', 'great',\n",
       "       'h8trs', 'handy', 'happy', 'heck', 'hi', 'hit', 'hits', 'hold',\n",
       "       'hope', 'hoped', 'horrible', 'hours', 'hubby', 'hurt', 'husband',\n",
       "       'idea', 'ignore', 'implementation', 'impress', 'impressed',\n",
       "       'improvement', 'improving', 'initialize', 'instantly', 'instead',\n",
       "       'issues', 'item', 'keeps', 'know', 'lacking', 'lanyard', 'lasted',\n",
       "       'later', 'lemon', 'lg', 'life', 'like', 'liked', 'limitations',\n",
       "       'linked', 'lol', 'looking', 'looks', 'loud', 'love', 'loves',\n",
       "       'lovet', 'loving', 'manufacturing', 'many', 'mark', 'messages',\n",
       "       'minor', 'missed', 'missing', 'mobile', 'mode', 'money', 'mrs',\n",
       "       'much', 'must', 'native', 'nearly', 'neat', 'need', 'needed',\n",
       "       'needs', 'neo', 'new', 'next', 'nice', 'notch', 'note', 'note3',\n",
       "       'notice', 'notification', 'notifications', 'notifier', 'ok',\n",
       "       'okay', 'old', 'one', 'option', 'original', 'originally',\n",
       "       'overall', 'owned', 'owner', 'pairing', 'part', 'pathetic',\n",
       "       'perfect', 'phone', 'phones', 'piece', 'pleasantly', 'plus',\n",
       "       'pool', 'poor', 'portrayed', 'positive', 'present', 'pretty',\n",
       "       'price', 'priced', 'prime', 'problem', 'product', 'producto',\n",
       "       'products', 'promises', 'purchase', 'purchased', 'put', 'quality',\n",
       "       'quick', 'quite', 'read', 'reading', 'ready', 'real', 'really',\n",
       "       'recomendado', 'recommend', 'regarding', 'resolution', 'returned',\n",
       "       'review', 'reviews', 'right', 'risk', 'robust', 'sad', 'samsung',\n",
       "       'satisfied', 'screen', 'second', 'see', 'service', 'set', 'shop',\n",
       "       'side', 'smart', 'smartphone', 'smartwatch', 'sms', 'software',\n",
       "       'something', 'son', 'sony', 'soooo', 'sorry', 'spectacular',\n",
       "       'square', 'stand', 'star', 'stars', 'stay', 'step', 'strap',\n",
       "       'suck', 'sucked', 'support', 'surprised', 'sw', 'sw1', 'sw2',\n",
       "       'sync', 'tablet', 'tech', 'think', 'third', 'thoroughly',\n",
       "       'thought', 'thumbs', 'thus', 'time', 'top', 'towards', 'toy',\n",
       "       'triage', 'tried', 'try', 'turns', 'two', 'update', 'ur', 'use',\n",
       "       'useful', 'using', 'value', 'version', 'vibrate', 'wallpaper',\n",
       "       'want', 'wanted', 'watch', 'wave', 'way', 'wear', 'week', 'well',\n",
       "       'whenever', 'whole', 'word', 'work', 'worked', 'works', 'worst',\n",
       "       'worth', 'would', 'wow', 'wrist', 'wristwear', 'xperia', 'yet',\n",
       "       'z1', 'z2'], dtype=object)"
      ]
     },
     "execution_count": 18,
     "metadata": {},
     "output_type": "execute_result"
    }
   ],
   "source": [
    "tfidf_matrix = vectorizer.fit_transform(review)\n",
    "vectorizer.get_feature_names_out()"
   ]
  },
  {
   "cell_type": "code",
   "execution_count": 19,
   "id": "a7aec254",
   "metadata": {},
   "outputs": [
    {
     "data": {
      "text/plain": [
       "(298, 369)"
      ]
     },
     "execution_count": 19,
     "metadata": {},
     "output_type": "execute_result"
    }
   ],
   "source": [
    "tfidf_matrix.shape"
   ]
  },
  {
   "cell_type": "code",
   "execution_count": 20,
   "id": "ca196619",
   "metadata": {},
   "outputs": [
    {
     "data": {
      "text/plain": [
       "<298x369 sparse matrix of type '<class 'numpy.float64'>'\n",
       "\twith 843 stored elements in Compressed Sparse Row format>"
      ]
     },
     "execution_count": 20,
     "metadata": {},
     "output_type": "execute_result"
    }
   ],
   "source": [
    "tfidf_matrix"
   ]
  },
  {
   "cell_type": "code",
   "execution_count": 21,
   "id": "d290df46",
   "metadata": {},
   "outputs": [
    {
     "data": {
      "text/plain": [
       "matrix([[0. , 0. , 0. , ..., 0. , 0. , 0. ],\n",
       "        [0.5, 0. , 0. , ..., 0. , 0. , 0. ],\n",
       "        [0. , 0. , 0. , ..., 0. , 0. , 0. ],\n",
       "        ...,\n",
       "        [0. , 0. , 0. , ..., 0. , 0. , 0. ],\n",
       "        [0. , 0. , 0. , ..., 0. , 0. , 0. ],\n",
       "        [0. , 0. , 0. , ..., 0. , 0. , 0. ]])"
      ]
     },
     "execution_count": 21,
     "metadata": {},
     "output_type": "execute_result"
    }
   ],
   "source": [
    "tfidf_matrix.todense()"
   ]
  },
  {
   "cell_type": "code",
   "execution_count": 22,
   "id": "cc48e1be",
   "metadata": {},
   "outputs": [
    {
     "name": "stderr",
     "output_type": "stream",
     "text": [
      "C:\\Users\\renuka\\anaconda3\\lib\\site-packages\\sklearn\\utils\\deprecation.py:87: FutureWarning: Function get_feature_names is deprecated; get_feature_names is deprecated in 1.0 and will be removed in 1.2. Please use get_feature_names_out instead.\n",
      "  warnings.warn(msg, category=FutureWarning)\n"
     ]
    },
    {
     "data": {
      "text/plain": [
       "['100',\n",
       " '11',\n",
       " '200',\n",
       " '2hrs',\n",
       " '3rd',\n",
       " 'absolute',\n",
       " 'acc',\n",
       " 'accesory',\n",
       " 'accessory',\n",
       " 'addition',\n",
       " 'additions',\n",
       " 'advertised',\n",
       " 'allows',\n",
       " 'almost',\n",
       " 'alot',\n",
       " 'alright',\n",
       " 'amazed',\n",
       " 'amazing',\n",
       " 'amazingly',\n",
       " 'android',\n",
       " 'another',\n",
       " 'apps',\n",
       " 'april',\n",
       " 'assurance',\n",
       " 'attention',\n",
       " 'avoid',\n",
       " 'away',\n",
       " 'awesome',\n",
       " 'awsome',\n",
       " 'background',\n",
       " 'bad',\n",
       " 'bank',\n",
       " 'bargain',\n",
       " 'basic',\n",
       " 'battery',\n",
       " 'best',\n",
       " 'better',\n",
       " 'beware',\n",
       " 'big',\n",
       " 'bigger',\n",
       " 'blackberry',\n",
       " 'blessing',\n",
       " 'bluetooth',\n",
       " 'bought',\n",
       " 'bricked',\n",
       " 'broke',\n",
       " 'bugs',\n",
       " 'business',\n",
       " 'buy',\n",
       " 'buyer',\n",
       " 'catch',\n",
       " 'cellphone',\n",
       " 'change',\n",
       " 'charm',\n",
       " 'check',\n",
       " 'choice',\n",
       " 'choices',\n",
       " 'claims',\n",
       " 'clock',\n",
       " 'clunky',\n",
       " 'come',\n",
       " 'companion',\n",
       " 'compatibility',\n",
       " 'compatible',\n",
       " 'concept',\n",
       " 'configuration',\n",
       " 'connecting',\n",
       " 'consistently',\n",
       " 'constantly',\n",
       " 'contender',\n",
       " 'convenient',\n",
       " 'cool',\n",
       " 'correction',\n",
       " 'could',\n",
       " 'crap',\n",
       " 'crazy',\n",
       " 'customer',\n",
       " 'day',\n",
       " 'days',\n",
       " 'deal',\n",
       " 'decent',\n",
       " 'decision',\n",
       " 'defective',\n",
       " 'definitely',\n",
       " 'describe',\n",
       " 'device',\n",
       " 'devices',\n",
       " 'die',\n",
       " 'digital',\n",
       " 'direction',\n",
       " 'disappoint',\n",
       " 'disappointment',\n",
       " 'disconnects',\n",
       " 'display',\n",
       " 'disturbing',\n",
       " 'dont',\n",
       " 'download',\n",
       " 'downsides',\n",
       " 'droped',\n",
       " 'easy',\n",
       " 'edition',\n",
       " 'email',\n",
       " 'engineering',\n",
       " 'enough',\n",
       " 'even',\n",
       " 'ever',\n",
       " 'everyday',\n",
       " 'everyone',\n",
       " 'everything',\n",
       " 'exactly',\n",
       " 'excelente',\n",
       " 'excellent',\n",
       " 'excellente',\n",
       " 'expected',\n",
       " 'experience',\n",
       " 'extremely',\n",
       " 'face',\n",
       " 'faces',\n",
       " 'fail',\n",
       " 'failure',\n",
       " 'fan',\n",
       " 'far',\n",
       " 'fast',\n",
       " 'father',\n",
       " 'feature',\n",
       " 'features',\n",
       " 'first',\n",
       " 'fit',\n",
       " 'five',\n",
       " 'four',\n",
       " 'friends',\n",
       " 'fumbling',\n",
       " 'fun',\n",
       " 'functional',\n",
       " 'future',\n",
       " 'g2',\n",
       " 'gadget',\n",
       " 'galaxy',\n",
       " 'gear',\n",
       " 'geek',\n",
       " 'gen',\n",
       " 'generation',\n",
       " 'get',\n",
       " 'gift',\n",
       " 'glad',\n",
       " 'glitches',\n",
       " 'god',\n",
       " 'going',\n",
       " 'good',\n",
       " 'got',\n",
       " 'great',\n",
       " 'h8trs',\n",
       " 'handy',\n",
       " 'happy',\n",
       " 'heck',\n",
       " 'hi',\n",
       " 'hit',\n",
       " 'hits',\n",
       " 'hold',\n",
       " 'hope',\n",
       " 'hoped',\n",
       " 'horrible',\n",
       " 'hours',\n",
       " 'hubby',\n",
       " 'hurt',\n",
       " 'husband',\n",
       " 'idea',\n",
       " 'ignore',\n",
       " 'implementation',\n",
       " 'impress',\n",
       " 'impressed',\n",
       " 'improvement',\n",
       " 'improving',\n",
       " 'initialize',\n",
       " 'instantly',\n",
       " 'instead',\n",
       " 'issues',\n",
       " 'item',\n",
       " 'keeps',\n",
       " 'know',\n",
       " 'lacking',\n",
       " 'lanyard',\n",
       " 'lasted',\n",
       " 'later',\n",
       " 'lemon',\n",
       " 'lg',\n",
       " 'life',\n",
       " 'like',\n",
       " 'liked',\n",
       " 'limitations',\n",
       " 'linked',\n",
       " 'lol',\n",
       " 'looking',\n",
       " 'looks',\n",
       " 'loud',\n",
       " 'love',\n",
       " 'loves',\n",
       " 'lovet',\n",
       " 'loving',\n",
       " 'manufacturing',\n",
       " 'many',\n",
       " 'mark',\n",
       " 'messages',\n",
       " 'minor',\n",
       " 'missed',\n",
       " 'missing',\n",
       " 'mobile',\n",
       " 'mode',\n",
       " 'money',\n",
       " 'mrs',\n",
       " 'much',\n",
       " 'must',\n",
       " 'native',\n",
       " 'nearly',\n",
       " 'neat',\n",
       " 'need',\n",
       " 'needed',\n",
       " 'needs',\n",
       " 'neo',\n",
       " 'new',\n",
       " 'next',\n",
       " 'nice',\n",
       " 'notch',\n",
       " 'note',\n",
       " 'note3',\n",
       " 'notice',\n",
       " 'notification',\n",
       " 'notifications',\n",
       " 'notifier',\n",
       " 'ok',\n",
       " 'okay',\n",
       " 'old',\n",
       " 'one',\n",
       " 'option',\n",
       " 'original',\n",
       " 'originally',\n",
       " 'overall',\n",
       " 'owned',\n",
       " 'owner',\n",
       " 'pairing',\n",
       " 'part',\n",
       " 'pathetic',\n",
       " 'perfect',\n",
       " 'phone',\n",
       " 'phones',\n",
       " 'piece',\n",
       " 'pleasantly',\n",
       " 'plus',\n",
       " 'pool',\n",
       " 'poor',\n",
       " 'portrayed',\n",
       " 'positive',\n",
       " 'present',\n",
       " 'pretty',\n",
       " 'price',\n",
       " 'priced',\n",
       " 'prime',\n",
       " 'problem',\n",
       " 'product',\n",
       " 'producto',\n",
       " 'products',\n",
       " 'promises',\n",
       " 'purchase',\n",
       " 'purchased',\n",
       " 'put',\n",
       " 'quality',\n",
       " 'quick',\n",
       " 'quite',\n",
       " 'read',\n",
       " 'reading',\n",
       " 'ready',\n",
       " 'real',\n",
       " 'really',\n",
       " 'recomendado',\n",
       " 'recommend',\n",
       " 'regarding',\n",
       " 'resolution',\n",
       " 'returned',\n",
       " 'review',\n",
       " 'reviews',\n",
       " 'right',\n",
       " 'risk',\n",
       " 'robust',\n",
       " 'sad',\n",
       " 'samsung',\n",
       " 'satisfied',\n",
       " 'screen',\n",
       " 'second',\n",
       " 'see',\n",
       " 'service',\n",
       " 'set',\n",
       " 'shop',\n",
       " 'side',\n",
       " 'smart',\n",
       " 'smartphone',\n",
       " 'smartwatch',\n",
       " 'sms',\n",
       " 'software',\n",
       " 'something',\n",
       " 'son',\n",
       " 'sony',\n",
       " 'soooo',\n",
       " 'sorry',\n",
       " 'spectacular',\n",
       " 'square',\n",
       " 'stand',\n",
       " 'star',\n",
       " 'stars',\n",
       " 'stay',\n",
       " 'step',\n",
       " 'strap',\n",
       " 'suck',\n",
       " 'sucked',\n",
       " 'support',\n",
       " 'surprised',\n",
       " 'sw',\n",
       " 'sw1',\n",
       " 'sw2',\n",
       " 'sync',\n",
       " 'tablet',\n",
       " 'tech',\n",
       " 'think',\n",
       " 'third',\n",
       " 'thoroughly',\n",
       " 'thought',\n",
       " 'thumbs',\n",
       " 'thus',\n",
       " 'time',\n",
       " 'top',\n",
       " 'towards',\n",
       " 'toy',\n",
       " 'triage',\n",
       " 'tried',\n",
       " 'try',\n",
       " 'turns',\n",
       " 'two',\n",
       " 'update',\n",
       " 'ur',\n",
       " 'use',\n",
       " 'useful',\n",
       " 'using',\n",
       " 'value',\n",
       " 'version',\n",
       " 'vibrate',\n",
       " 'wallpaper',\n",
       " 'want',\n",
       " 'wanted',\n",
       " 'watch',\n",
       " 'wave',\n",
       " 'way',\n",
       " 'wear',\n",
       " 'week',\n",
       " 'well',\n",
       " 'whenever',\n",
       " 'whole',\n",
       " 'word',\n",
       " 'work',\n",
       " 'worked',\n",
       " 'works',\n",
       " 'worst',\n",
       " 'worth',\n",
       " 'would',\n",
       " 'wow',\n",
       " 'wrist',\n",
       " 'wristwear',\n",
       " 'xperia',\n",
       " 'yet',\n",
       " 'z1',\n",
       " 'z2']"
      ]
     },
     "execution_count": 22,
     "metadata": {},
     "output_type": "execute_result"
    }
   ],
   "source": [
    "vectorizer.get_feature_names()"
   ]
  },
  {
   "cell_type": "code",
   "execution_count": 23,
   "id": "becf6628",
   "metadata": {},
   "outputs": [
    {
     "data": {
      "text/html": [
       "<div>\n",
       "<style scoped>\n",
       "    .dataframe tbody tr th:only-of-type {\n",
       "        vertical-align: middle;\n",
       "    }\n",
       "\n",
       "    .dataframe tbody tr th {\n",
       "        vertical-align: top;\n",
       "    }\n",
       "\n",
       "    .dataframe thead th {\n",
       "        text-align: right;\n",
       "    }\n",
       "</style>\n",
       "<table border=\"1\" class=\"dataframe\">\n",
       "  <thead>\n",
       "    <tr style=\"text-align: right;\">\n",
       "      <th></th>\n",
       "      <th>100</th>\n",
       "      <th>11</th>\n",
       "      <th>200</th>\n",
       "      <th>2hrs</th>\n",
       "      <th>3rd</th>\n",
       "      <th>absolute</th>\n",
       "      <th>acc</th>\n",
       "      <th>accesory</th>\n",
       "      <th>accessory</th>\n",
       "      <th>addition</th>\n",
       "      <th>...</th>\n",
       "      <th>worst</th>\n",
       "      <th>worth</th>\n",
       "      <th>would</th>\n",
       "      <th>wow</th>\n",
       "      <th>wrist</th>\n",
       "      <th>wristwear</th>\n",
       "      <th>xperia</th>\n",
       "      <th>yet</th>\n",
       "      <th>z1</th>\n",
       "      <th>z2</th>\n",
       "    </tr>\n",
       "  </thead>\n",
       "  <tbody>\n",
       "    <tr>\n",
       "      <th>0</th>\n",
       "      <td>0.0</td>\n",
       "      <td>0.0</td>\n",
       "      <td>0.0</td>\n",
       "      <td>0.0</td>\n",
       "      <td>0.0</td>\n",
       "      <td>0.0</td>\n",
       "      <td>0.0</td>\n",
       "      <td>0.0</td>\n",
       "      <td>0.0</td>\n",
       "      <td>0.0</td>\n",
       "      <td>...</td>\n",
       "      <td>0.0</td>\n",
       "      <td>0.0</td>\n",
       "      <td>0.0</td>\n",
       "      <td>0.0</td>\n",
       "      <td>0.0</td>\n",
       "      <td>0.0</td>\n",
       "      <td>0.0</td>\n",
       "      <td>0.0</td>\n",
       "      <td>0.0</td>\n",
       "      <td>0.0</td>\n",
       "    </tr>\n",
       "    <tr>\n",
       "      <th>1</th>\n",
       "      <td>0.5</td>\n",
       "      <td>0.0</td>\n",
       "      <td>0.0</td>\n",
       "      <td>0.0</td>\n",
       "      <td>0.0</td>\n",
       "      <td>0.0</td>\n",
       "      <td>0.0</td>\n",
       "      <td>0.0</td>\n",
       "      <td>0.0</td>\n",
       "      <td>0.0</td>\n",
       "      <td>...</td>\n",
       "      <td>0.0</td>\n",
       "      <td>0.0</td>\n",
       "      <td>0.0</td>\n",
       "      <td>0.0</td>\n",
       "      <td>0.0</td>\n",
       "      <td>0.0</td>\n",
       "      <td>0.0</td>\n",
       "      <td>0.0</td>\n",
       "      <td>0.0</td>\n",
       "      <td>0.0</td>\n",
       "    </tr>\n",
       "    <tr>\n",
       "      <th>2</th>\n",
       "      <td>0.0</td>\n",
       "      <td>0.0</td>\n",
       "      <td>0.0</td>\n",
       "      <td>0.0</td>\n",
       "      <td>0.0</td>\n",
       "      <td>0.0</td>\n",
       "      <td>0.0</td>\n",
       "      <td>0.0</td>\n",
       "      <td>0.0</td>\n",
       "      <td>0.0</td>\n",
       "      <td>...</td>\n",
       "      <td>0.0</td>\n",
       "      <td>0.0</td>\n",
       "      <td>0.0</td>\n",
       "      <td>0.0</td>\n",
       "      <td>0.0</td>\n",
       "      <td>0.0</td>\n",
       "      <td>0.0</td>\n",
       "      <td>0.0</td>\n",
       "      <td>0.0</td>\n",
       "      <td>0.0</td>\n",
       "    </tr>\n",
       "    <tr>\n",
       "      <th>3</th>\n",
       "      <td>0.0</td>\n",
       "      <td>0.0</td>\n",
       "      <td>0.0</td>\n",
       "      <td>0.0</td>\n",
       "      <td>0.0</td>\n",
       "      <td>0.0</td>\n",
       "      <td>0.0</td>\n",
       "      <td>0.0</td>\n",
       "      <td>0.0</td>\n",
       "      <td>0.0</td>\n",
       "      <td>...</td>\n",
       "      <td>0.0</td>\n",
       "      <td>0.0</td>\n",
       "      <td>0.0</td>\n",
       "      <td>0.0</td>\n",
       "      <td>0.0</td>\n",
       "      <td>0.0</td>\n",
       "      <td>0.0</td>\n",
       "      <td>0.0</td>\n",
       "      <td>0.0</td>\n",
       "      <td>0.0</td>\n",
       "    </tr>\n",
       "    <tr>\n",
       "      <th>4</th>\n",
       "      <td>0.0</td>\n",
       "      <td>0.0</td>\n",
       "      <td>0.0</td>\n",
       "      <td>0.0</td>\n",
       "      <td>0.0</td>\n",
       "      <td>0.0</td>\n",
       "      <td>0.0</td>\n",
       "      <td>0.0</td>\n",
       "      <td>0.0</td>\n",
       "      <td>0.0</td>\n",
       "      <td>...</td>\n",
       "      <td>0.0</td>\n",
       "      <td>0.0</td>\n",
       "      <td>0.0</td>\n",
       "      <td>0.0</td>\n",
       "      <td>0.0</td>\n",
       "      <td>0.0</td>\n",
       "      <td>0.0</td>\n",
       "      <td>0.0</td>\n",
       "      <td>0.0</td>\n",
       "      <td>0.0</td>\n",
       "    </tr>\n",
       "    <tr>\n",
       "      <th>...</th>\n",
       "      <td>...</td>\n",
       "      <td>...</td>\n",
       "      <td>...</td>\n",
       "      <td>...</td>\n",
       "      <td>...</td>\n",
       "      <td>...</td>\n",
       "      <td>...</td>\n",
       "      <td>...</td>\n",
       "      <td>...</td>\n",
       "      <td>...</td>\n",
       "      <td>...</td>\n",
       "      <td>...</td>\n",
       "      <td>...</td>\n",
       "      <td>...</td>\n",
       "      <td>...</td>\n",
       "      <td>...</td>\n",
       "      <td>...</td>\n",
       "      <td>...</td>\n",
       "      <td>...</td>\n",
       "      <td>...</td>\n",
       "      <td>...</td>\n",
       "    </tr>\n",
       "    <tr>\n",
       "      <th>293</th>\n",
       "      <td>0.0</td>\n",
       "      <td>0.0</td>\n",
       "      <td>0.0</td>\n",
       "      <td>0.0</td>\n",
       "      <td>0.0</td>\n",
       "      <td>0.0</td>\n",
       "      <td>0.0</td>\n",
       "      <td>0.0</td>\n",
       "      <td>0.0</td>\n",
       "      <td>0.0</td>\n",
       "      <td>...</td>\n",
       "      <td>0.0</td>\n",
       "      <td>0.0</td>\n",
       "      <td>0.0</td>\n",
       "      <td>0.0</td>\n",
       "      <td>0.0</td>\n",
       "      <td>0.0</td>\n",
       "      <td>0.0</td>\n",
       "      <td>0.0</td>\n",
       "      <td>0.0</td>\n",
       "      <td>0.0</td>\n",
       "    </tr>\n",
       "    <tr>\n",
       "      <th>294</th>\n",
       "      <td>0.0</td>\n",
       "      <td>0.0</td>\n",
       "      <td>0.0</td>\n",
       "      <td>0.0</td>\n",
       "      <td>0.0</td>\n",
       "      <td>0.0</td>\n",
       "      <td>0.0</td>\n",
       "      <td>0.0</td>\n",
       "      <td>0.0</td>\n",
       "      <td>0.0</td>\n",
       "      <td>...</td>\n",
       "      <td>0.0</td>\n",
       "      <td>0.0</td>\n",
       "      <td>0.0</td>\n",
       "      <td>0.0</td>\n",
       "      <td>0.0</td>\n",
       "      <td>0.0</td>\n",
       "      <td>0.0</td>\n",
       "      <td>0.0</td>\n",
       "      <td>0.0</td>\n",
       "      <td>0.0</td>\n",
       "    </tr>\n",
       "    <tr>\n",
       "      <th>295</th>\n",
       "      <td>0.0</td>\n",
       "      <td>0.0</td>\n",
       "      <td>0.0</td>\n",
       "      <td>0.0</td>\n",
       "      <td>0.0</td>\n",
       "      <td>0.0</td>\n",
       "      <td>0.0</td>\n",
       "      <td>0.0</td>\n",
       "      <td>0.0</td>\n",
       "      <td>0.0</td>\n",
       "      <td>...</td>\n",
       "      <td>0.0</td>\n",
       "      <td>0.0</td>\n",
       "      <td>0.0</td>\n",
       "      <td>0.0</td>\n",
       "      <td>0.0</td>\n",
       "      <td>0.0</td>\n",
       "      <td>0.0</td>\n",
       "      <td>0.0</td>\n",
       "      <td>0.0</td>\n",
       "      <td>0.0</td>\n",
       "    </tr>\n",
       "    <tr>\n",
       "      <th>296</th>\n",
       "      <td>0.0</td>\n",
       "      <td>0.0</td>\n",
       "      <td>0.0</td>\n",
       "      <td>0.0</td>\n",
       "      <td>0.0</td>\n",
       "      <td>0.0</td>\n",
       "      <td>0.0</td>\n",
       "      <td>0.0</td>\n",
       "      <td>0.0</td>\n",
       "      <td>0.0</td>\n",
       "      <td>...</td>\n",
       "      <td>0.0</td>\n",
       "      <td>0.0</td>\n",
       "      <td>0.0</td>\n",
       "      <td>0.0</td>\n",
       "      <td>0.0</td>\n",
       "      <td>0.0</td>\n",
       "      <td>0.0</td>\n",
       "      <td>0.0</td>\n",
       "      <td>0.0</td>\n",
       "      <td>0.0</td>\n",
       "    </tr>\n",
       "    <tr>\n",
       "      <th>297</th>\n",
       "      <td>0.0</td>\n",
       "      <td>0.0</td>\n",
       "      <td>0.0</td>\n",
       "      <td>0.0</td>\n",
       "      <td>0.0</td>\n",
       "      <td>0.0</td>\n",
       "      <td>0.0</td>\n",
       "      <td>0.0</td>\n",
       "      <td>0.0</td>\n",
       "      <td>0.0</td>\n",
       "      <td>...</td>\n",
       "      <td>0.0</td>\n",
       "      <td>0.0</td>\n",
       "      <td>0.0</td>\n",
       "      <td>0.0</td>\n",
       "      <td>0.0</td>\n",
       "      <td>0.0</td>\n",
       "      <td>0.0</td>\n",
       "      <td>0.0</td>\n",
       "      <td>0.0</td>\n",
       "      <td>0.0</td>\n",
       "    </tr>\n",
       "  </tbody>\n",
       "</table>\n",
       "<p>298 rows × 369 columns</p>\n",
       "</div>"
      ],
      "text/plain": [
       "     100   11  200  2hrs  3rd  absolute  acc  accesory  accessory  addition  \\\n",
       "0    0.0  0.0  0.0   0.0  0.0       0.0  0.0       0.0        0.0       0.0   \n",
       "1    0.5  0.0  0.0   0.0  0.0       0.0  0.0       0.0        0.0       0.0   \n",
       "2    0.0  0.0  0.0   0.0  0.0       0.0  0.0       0.0        0.0       0.0   \n",
       "3    0.0  0.0  0.0   0.0  0.0       0.0  0.0       0.0        0.0       0.0   \n",
       "4    0.0  0.0  0.0   0.0  0.0       0.0  0.0       0.0        0.0       0.0   \n",
       "..   ...  ...  ...   ...  ...       ...  ...       ...        ...       ...   \n",
       "293  0.0  0.0  0.0   0.0  0.0       0.0  0.0       0.0        0.0       0.0   \n",
       "294  0.0  0.0  0.0   0.0  0.0       0.0  0.0       0.0        0.0       0.0   \n",
       "295  0.0  0.0  0.0   0.0  0.0       0.0  0.0       0.0        0.0       0.0   \n",
       "296  0.0  0.0  0.0   0.0  0.0       0.0  0.0       0.0        0.0       0.0   \n",
       "297  0.0  0.0  0.0   0.0  0.0       0.0  0.0       0.0        0.0       0.0   \n",
       "\n",
       "     ...  worst  worth  would  wow  wrist  wristwear  xperia  yet   z1   z2  \n",
       "0    ...    0.0    0.0    0.0  0.0    0.0        0.0     0.0  0.0  0.0  0.0  \n",
       "1    ...    0.0    0.0    0.0  0.0    0.0        0.0     0.0  0.0  0.0  0.0  \n",
       "2    ...    0.0    0.0    0.0  0.0    0.0        0.0     0.0  0.0  0.0  0.0  \n",
       "3    ...    0.0    0.0    0.0  0.0    0.0        0.0     0.0  0.0  0.0  0.0  \n",
       "4    ...    0.0    0.0    0.0  0.0    0.0        0.0     0.0  0.0  0.0  0.0  \n",
       "..   ...    ...    ...    ...  ...    ...        ...     ...  ...  ...  ...  \n",
       "293  ...    0.0    0.0    0.0  0.0    0.0        0.0     0.0  0.0  0.0  0.0  \n",
       "294  ...    0.0    0.0    0.0  0.0    0.0        0.0     0.0  0.0  0.0  0.0  \n",
       "295  ...    0.0    0.0    0.0  0.0    0.0        0.0     0.0  0.0  0.0  0.0  \n",
       "296  ...    0.0    0.0    0.0  0.0    0.0        0.0     0.0  0.0  0.0  0.0  \n",
       "297  ...    0.0    0.0    0.0  0.0    0.0        0.0     0.0  0.0  0.0  0.0  \n",
       "\n",
       "[298 rows x 369 columns]"
      ]
     },
     "execution_count": 23,
     "metadata": {},
     "output_type": "execute_result"
    }
   ],
   "source": [
    "pd.DataFrame(tfidf_matrix.todense(),columns=vectorizer.get_feature_names())"
   ]
  },
  {
   "cell_type": "code",
   "execution_count": 24,
   "id": "5685e0b9",
   "metadata": {},
   "outputs": [
    {
     "data": {
      "text/plain": [
       "(298, 369)"
      ]
     },
     "execution_count": 24,
     "metadata": {},
     "output_type": "execute_result"
    }
   ],
   "source": [
    "tfidf_matrix.shape"
   ]
  },
  {
   "cell_type": "code",
   "execution_count": 25,
   "id": "f9051efb",
   "metadata": {},
   "outputs": [
    {
     "data": {
      "text/plain": [
       "<298x369 sparse matrix of type '<class 'numpy.float64'>'\n",
       "\twith 843 stored elements in Compressed Sparse Row format>"
      ]
     },
     "execution_count": 25,
     "metadata": {},
     "output_type": "execute_result"
    }
   ],
   "source": [
    "tfidf_matrix"
   ]
  },
  {
   "cell_type": "code",
   "execution_count": 26,
   "id": "01f919c2",
   "metadata": {},
   "outputs": [
    {
     "data": {
      "text/plain": [
       "array([1, 5, 5, 4, 5, 1, 2, 5, 5, 5, 1, 5, 4, 5, 5, 5, 5, 4, 4, 1, 1, 4,\n",
       "       5, 5, 5, 5, 4, 5, 4, 1, 5, 2, 5, 1, 1, 4, 4, 5, 5, 5, 5, 5, 1, 5,\n",
       "       5, 5, 5, 4, 5, 4, 4, 5, 1, 5, 5, 5, 5, 4, 5, 4, 2, 5, 4, 4, 5, 5,\n",
       "       4, 2, 5, 5, 2, 1, 5, 1, 4, 5, 5, 5, 5, 5, 5, 4, 1, 2, 4, 2, 1, 5,\n",
       "       2, 5, 1, 4, 5, 5, 5, 4, 5, 4, 5, 5, 5, 1, 5, 5, 5, 5, 1, 4, 5, 5,\n",
       "       5, 5, 5, 4, 5, 4, 2, 5, 4, 5, 5, 4, 5, 4, 4, 4, 5, 5, 5, 1, 4, 4,\n",
       "       5, 5, 5, 2, 4, 4, 4, 5, 1, 5, 1, 5, 5, 5, 2, 1, 5, 2, 4, 4, 1, 5,\n",
       "       5, 5, 5, 5, 5, 5, 5, 5, 5, 4, 5, 5, 5, 5, 1, 1, 5, 4, 5, 5, 1, 2,\n",
       "       5, 4, 5, 4, 4, 5, 5, 5, 5, 5, 5, 5, 1, 5, 5, 5, 5, 2, 5, 1, 5, 5,\n",
       "       4, 1, 4, 4, 5, 5, 2, 5, 5, 4, 5, 5, 4, 2, 2, 4, 4, 1, 2, 5, 4, 4,\n",
       "       4, 4, 4, 1, 5, 2, 5, 5, 5, 1, 5, 5, 5, 5, 5, 5, 1, 5, 4, 5, 5, 2,\n",
       "       5, 5, 2, 5, 1, 2, 5, 1, 1, 4, 5, 5, 4, 5, 4, 2, 5, 5, 4, 5, 5, 5,\n",
       "       4, 2, 5, 5, 5, 1, 1, 1, 4, 4, 1, 4, 1, 2, 5, 5, 5, 5, 4, 4, 2, 5,\n",
       "       5, 5, 4, 1, 5, 5, 2, 1, 5, 2, 5, 4], dtype=int64)"
      ]
     },
     "execution_count": 26,
     "metadata": {},
     "output_type": "execute_result"
    }
   ],
   "source": [
    "y = df[\"V1\"].values\n",
    "y"
   ]
  },
  {
   "cell_type": "code",
   "execution_count": 27,
   "id": "565fd79c",
   "metadata": {},
   "outputs": [],
   "source": [
    "from sklearn.model_selection import train_test_split\n",
    "X_train,X_test,y_train,y_test = train_test_split(tfidf_matrix,y,test_size=0.20,random_state=42)"
   ]
  },
  {
   "cell_type": "code",
   "execution_count": 28,
   "id": "20252a12",
   "metadata": {},
   "outputs": [
    {
     "data": {
      "text/plain": [
       "(238, 369)"
      ]
     },
     "execution_count": 28,
     "metadata": {},
     "output_type": "execute_result"
    }
   ],
   "source": [
    "X_train.shape"
   ]
  },
  {
   "cell_type": "code",
   "execution_count": 29,
   "id": "92614804",
   "metadata": {},
   "outputs": [
    {
     "data": {
      "text/plain": [
       "(60, 369)"
      ]
     },
     "execution_count": 29,
     "metadata": {},
     "output_type": "execute_result"
    }
   ],
   "source": [
    "X_test.shape"
   ]
  },
  {
   "cell_type": "code",
   "execution_count": 30,
   "id": "475867f2",
   "metadata": {},
   "outputs": [],
   "source": [
    "from sklearn.linear_model import LogisticRegression"
   ]
  },
  {
   "cell_type": "code",
   "execution_count": 31,
   "id": "74503ef9",
   "metadata": {},
   "outputs": [],
   "source": [
    "model = LogisticRegression()\n",
    "model=model.fit(X_train, y_train)"
   ]
  },
  {
   "cell_type": "code",
   "execution_count": 32,
   "id": "8fd556d5",
   "metadata": {},
   "outputs": [
    {
     "data": {
      "text/plain": [
       "(60, 4)"
      ]
     },
     "execution_count": 32,
     "metadata": {},
     "output_type": "execute_result"
    }
   ],
   "source": [
    "pred = model.predict_proba(X_test)\n",
    "pred.shape"
   ]
  },
  {
   "cell_type": "code",
   "execution_count": 33,
   "id": "692864aa",
   "metadata": {},
   "outputs": [
    {
     "data": {
      "text/plain": [
       "(60,)"
      ]
     },
     "execution_count": 33,
     "metadata": {},
     "output_type": "execute_result"
    }
   ],
   "source": [
    "y_test.shape"
   ]
  },
  {
   "cell_type": "code",
   "execution_count": 34,
   "id": "b059bd23",
   "metadata": {},
   "outputs": [],
   "source": [
    "from sklearn.metrics import roc_auc_score"
   ]
  },
  {
   "cell_type": "code",
   "execution_count": 35,
   "id": "ed6201e6",
   "metadata": {},
   "outputs": [
    {
     "name": "stdout",
     "output_type": "stream",
     "text": [
      "AUC is 0.8401348028900113\n"
     ]
    }
   ],
   "source": [
    "print(\"AUC is\", roc_auc_score(y_test,pred, multi_class=\"ovr\"))"
   ]
  },
  {
   "cell_type": "code",
   "execution_count": 36,
   "id": "d15805c5",
   "metadata": {},
   "outputs": [],
   "source": [
    "feature_names=np.array(vectorizer.get_feature_names_out())\n",
    "sorted_coef_index=model.coef_[0].argsort()"
   ]
  },
  {
   "cell_type": "code",
   "execution_count": 37,
   "id": "190057ee",
   "metadata": {},
   "outputs": [
    {
     "name": "stdout",
     "output_type": "stream",
     "text": [
      "Largest coef ['good' 'stars' 'smartwatch' 'love' 'smart' 'great' 'five' 'awesome'\n",
      " 'four' 'ready']\n"
     ]
    }
   ],
   "source": [
    "print(\"Largest coef\", feature_names[sorted_coef_index[:10]])"
   ]
  },
  {
   "cell_type": "code",
   "execution_count": 38,
   "id": "568a76b3",
   "metadata": {},
   "outputs": [
    {
     "name": "stdout",
     "output_type": "stream",
     "text": [
      "Smallest coef ['customer' 'quality' 'horrible' 'beware' 'sad' 'fail' 'suck' 'sync' 'one'\n",
      " 'star']\n"
     ]
    }
   ],
   "source": [
    "print(\"Smallest coef\", feature_names[sorted_coef_index[-10:]])"
   ]
  },
  {
   "cell_type": "code",
   "execution_count": null,
   "id": "9771a611",
   "metadata": {},
   "outputs": [],
   "source": []
  }
 ],
 "metadata": {
  "kernelspec": {
   "display_name": "Python 3 (ipykernel)",
   "language": "python",
   "name": "python3"
  },
  "language_info": {
   "codemirror_mode": {
    "name": "ipython",
    "version": 3
   },
   "file_extension": ".py",
   "mimetype": "text/x-python",
   "name": "python",
   "nbconvert_exporter": "python",
   "pygments_lexer": "ipython3",
   "version": "3.9.7"
  }
 },
 "nbformat": 4,
 "nbformat_minor": 5
}
